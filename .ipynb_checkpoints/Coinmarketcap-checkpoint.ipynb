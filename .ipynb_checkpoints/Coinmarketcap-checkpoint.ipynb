{
 "cells": [
  {
   "cell_type": "code",
   "execution_count": null,
   "metadata": {},
   "outputs": [],
   "source": [
    "from selenium import webdriver\n",
    "from selenium.common.exceptions import TimeoutException\n",
    "from selenium.webdriver.support.ui import WebDriverWait\n",
    "from selenium.webdriver.support import expected_conditions as EC\n",
    "from selenium.webdriver.common.by import By\n",
    "import time\n",
    "import pandas as pd\n",
    "\n",
    "driver = webdriver.Firefox()\n",
    "driver.get('https://coinmarketcap.com/all/views/all/')\n",
    "website = list()\n",
    "name = list()\n",
    "GitHub = list()\n",
    "n = 0\n",
    "m=0\n",
    "for a in driver.find_elements_by_xpath('//a[@class=\"currency-name-container link-secondary\"]'):\n",
    "    website.append(a.get_attribute('href'))\n",
    "while n < 2230:\n",
    "    name_1  = driver.find_elements_by_xpath('//a[@class=\"currency-name-container link-secondary\"]')[m].text\n",
    "    name.append(name_1)\n",
    "    m = m + 1\n",
    "    n = n + 1\n",
    "g = 0\n",
    "l = 0\n",
    "t = 0\n",
    "while g<2230: \n",
    "    driver.get(website[l])\n",
    "    try:\n",
    "        if driver.find_element_by_xpath('//span[contains(text(),\"Checking your browser before accessing\")]'):\n",
    "            time.sleep(6)\n",
    "    except:\n",
    "        pass\n",
    "\n",
    "    try:\n",
    "        \n",
    "        for GitHublink_get in driver.find_elements_by_xpath('//a[contains(text(),\"Source Code\")]'):\n",
    "            GitHublink = (GitHublink_get.get_attribute('href'))\n",
    "        GitHub.append(GitHublink)\n",
    "    except:\n",
    "        pass\n",
    "    t = g - 1\n",
    "    if g > 0:\n",
    "        if GitHub[t] == GitHub[g]:\n",
    "            GitHub.pop()\n",
    "            GitHub.append(\"No link\")\n",
    "        else:\n",
    "            pass\n",
    "    l = l + 1\n",
    "    g = g + 1\n",
    "\n",
    "\n",
    "data = pd.DataFrame({'name': name ,'link': website, 'GitHub': GitHub)\n",
    "data.to_csv('Criptonic.csv', index=False, encoding='utf-8')\n",
    "print(data)\n"
   ]
  }
 ],
 "metadata": {
  "kernelspec": {
   "display_name": "Python 3",
   "language": "python",
   "name": "python3"
  },
  "language_info": {
   "codemirror_mode": {
    "name": "ipython",
    "version": 3
   },
   "file_extension": ".py",
   "mimetype": "text/x-python",
   "name": "python",
   "nbconvert_exporter": "python",
   "pygments_lexer": "ipython3",
   "version": "3.7.3"
  }
 },
 "nbformat": 4,
 "nbformat_minor": 2
}
